{
 "cells": [
  {
   "cell_type": "code",
   "execution_count": 1,
   "metadata": {
    "collapsed": false
   },
   "outputs": [],
   "source": [
    "# Orbites des planètes du Système solaire\n",
    "\n",
    "#(Noms, Diamètres en mètres, Demi-grands axes en UA, Périodes de révolution sidérale en jours, Excentricité, Couleurs)\n",
    "#(n,d,a,T,e,c)\n",
    "SS = [\n",
    "    (\"Mercure\", 4.87946e6, 0.38709831, 87.9693, 0.205630, 'grey'),\n",
    "    (\"Venus\", 1.21036e7, 0.72332981, 224.701,0.006772, 'y'),\n",
    "    (\"La Terre\", 1.27562e7, 1, 365.256, 0.0167086, 'blue'),\n",
    "    (\"Mars\", 6.7924e6, 1.5236794, 686.986, 0.0934, 'red'),\n",
    "    (\"Jupiter\", 1.42984e8, 5.2026028, 4332.656, 0.048498, 'maroon'),\n",
    "    (\"Saturn\", 1.20596e8, 9.5549087, 10759.404, 0.05555, 'orange'),\n",
    "    (\"Uranus\", 5.1118e7, 19.2184487, 30688.984, 0.046381, 'cyan'),\n",
    "    (\"Neptune\", 4.9528e7, 30.1103885, 58707.284, 0.009456, 'blue')\n",
    "]\n",
    "\n",
    "def theta(T):\n",
    "        return 2*np.pi*np.linspace(0, T, 1000)/T\n",
    "    \n",
    "    \n",
    "def orbites(L, legende):\n",
    "    import numpy as np\n",
    "    import matplotlib.pyplot as plt\n",
    "\n",
    "    #orbites censées être elliptiques\n",
    "    Coord_X = [a*np.cos(theta(T)) for (n,d,a,T,e,c) in L]\n",
    "    Coord_Y = [a*np.sqrt(1 - e**2)*np.sin(theta(T)) for (n,d,a,T,e,c) in L]\n",
    "\n",
    "    fig_orbite = plt.figure()\n",
    "    Soleil = plt.Circle((0,0), 0.25, fc='yellow', color = 'orange', label='Soleil')\n",
    "    plt.gca().add_patch(Soleil)\n",
    "    \n",
    "    for (x,y,(n,d,a,T,e,c)) in zip(Coord_X, Coord_Y, L):\n",
    "        plt.plot(x, y, color = c, linewidth = 2, linestyle = '-', label = n) \n",
    "\n",
    "    plt.title(legende)\n",
    "    plt.legend(loc=\"upper right\") \n",
    "    plt.xlabel('Distance en UA')\n",
    "    plt.ylabel('Distance en UA')\n",
    "    #plt.xticks([-60,-50,-40,-30,-25,-20,-15,-10,-5,0,5,10,15,20,25,30,40,50,60])\n",
    "    plt.axis('equal')\n",
    "    return plt.show()"
   ]
  },
  {
   "cell_type": "code",
   "execution_count": null,
   "metadata": {
    "collapsed": false
   },
   "outputs": [],
   "source": [
    "orbites(SS,'Le Système solaire')"
   ]
  },
  {
   "cell_type": "markdown",
   "metadata": {},
   "source": [
    "Ref :\n",
    "\n",
    "- Munsell, Kirk; Smith, Harman; Harvey, Samantha (May 28, 2009). [\"Mercury: Facts & Figures\"](http://solarsystem.nasa.gov/planets/profile.cfm?Object=Mercury&Display=Facts). Solar System Exploration. NASA. Retrieved 2008-04-07.\n",
    "\n",
    "- Seidelmann, P. Kenneth; Archinal, Brent A.; A'Hearn, Michael F.; et al. (2007). [\"Report of the IAU/IAG Working Group on cartographic coordinates and rotational elements: 2006\"](https://en.wikipedia.org/wiki/Celestial_Mechanics_and_Dynamical_Astronomy). Celestial Mechanics and Dynamical Astronomy. 98 (3): 155–180. \n",
    "\n",
    "- [IMCCE](http://www.imcce.fr/langues/fr/grandpublic/systeme/promenade/pages1/19.html)"
   ]
  },
  {
   "cell_type": "code",
   "execution_count": 3,
   "metadata": {
    "collapsed": false,
    "scrolled": true
   },
   "outputs": [],
   "source": [
    "# Animation des planètes du Système solaire interne\n",
    "\n",
    "import numpy as np\n",
    "import matplotlib.pyplot as plt\n",
    "from matplotlib import animation\n",
    "\n",
    "fig_anim_SS, ax = plt.subplots()\n",
    "\n",
    "#orbites circulaires\n",
    "Coord2_X = [a*np.cos(theta(T)) for (n,d,a,T,e,c) in SS[:4]]\n",
    "Coord2_Y = [a*np.sin(theta(T)) for (n,d,a,T,e,c) in SS[:4]]\n",
    "\n",
    "for (x,y,(n,d,a,T,e,c)) in zip(Coord2_X, Coord2_Y,SS[:4]):\n",
    "    plt.plot(x, y, color = 'black', linewidth = 3, linestyle = ':') \n",
    "\n",
    "#diametres pas a l'echelle,*10^-8\n",
    "Soleil = plt.Circle((0,0), 0.25, fc='yellow', color = 'orange', label='Le Soleil')\n",
    "Mercure = plt.Circle((0, 0), 4.87946/100, fc='grey', label = 'Mercure')\n",
    "Venus = plt.Circle((0, 0), 1.21036/10, fc='y', label = 'Venus')\n",
    "Terre = plt.Circle((0, 0), 1.27562/10, fc='blue', label = 'La Terre')\n",
    "Mars = plt.Circle((0, 0), 6.7924/100, fc='red', label = 'Mars')\n",
    "\n",
    "def init_SS():\n",
    "    Mercure.center = (0, 0)\n",
    "    Venus.center = (0, 0)\n",
    "    Terre.center = (0, 0)\n",
    "    Mars.center = (0, 0)\n",
    "    Soleil.center = (0,0)\n",
    "    ax.add_patch(Mercure)\n",
    "    ax.add_patch(Venus)\n",
    "    ax.add_patch(Terre)\n",
    "    ax.add_patch(Mars)\n",
    "    ax.add_patch(Soleil)\n",
    "    return Soleil, Mercure, Venus, Terre, Mars,\n",
    "\n",
    "#vitesses angulaires pas a l'echelle,x45 ?\n",
    "def animate_SS(i):\n",
    "    x_Mercure, y_Mercure = Mercure.center\n",
    "    x_Mercure = 0.38709831 * np.sin(np.radians(i)*90*np.pi/87.9693)\n",
    "    y_Mercure = 0.38709831 * np.cos(np.radians(i)*90*np.pi/87.9693)\n",
    "    Mercure.center = (x_Mercure, y_Mercure)\n",
    "    x_Venus, y_Venus = Venus.center\n",
    "    x_Venus = 0.72332981 * np.sin(np.radians(i)*90*np.pi/224.701)\n",
    "    y_Venus = 0.72332981 * np.cos(np.radians(i)*90*np.pi/224.701)\n",
    "    Venus.center = (x_Venus, y_Venus)\n",
    "    x_Terre, y_Terre = Terre.center\n",
    "    x_Terre = 1 * np.sin(np.radians(i)*90*np.pi/365.256)\n",
    "    y_Terre = 1 * np.cos(np.radians(i)*90*np.pi/365.256)\n",
    "    Terre.center = (x_Terre, y_Terre)\n",
    "    x_Mars, y_Mars = Mars.center\n",
    "    x_Mars = 1.5236794 * np.sin(np.radians(i)*90*np.pi/686.986)\n",
    "    y_Mars = 1.5236794 * np.cos(np.radians(i)*90*np.pi/686.986)\n",
    "    Mars.center = (x_Mars, y_Mars)\n",
    "    return Mercure, Venus, Terre, Mars,\n",
    "\n",
    "anim_SS = animation.FuncAnimation(fig_anim_SS, animate_SS, \n",
    "                               init_func=init_SS, \n",
    "                               frames=3080, \n",
    "                               interval=8,\n",
    "                               blit=True)\n",
    "\n",
    "plt.title('Animation du Système solaire interne')\n",
    "plt.legend(loc='upper right')\n",
    "plt.xlabel(\"Distance en UA\")\n",
    "plt.ylabel(\"Distance en UA\")\n",
    "plt.axis('equal')\n",
    "#anim.save('test.mp4', fps=30, extra_args=['-vcodec', 'libx264'])\n",
    "plt.show()"
   ]
  },
  {
   "cell_type": "code",
   "execution_count": null,
   "metadata": {
    "collapsed": true
   },
   "outputs": [],
   "source": []
  }
 ],
 "metadata": {
  "kernelspec": {
   "display_name": "Python 3",
   "language": "python",
   "name": "python3"
  },
  "language_info": {
   "codemirror_mode": {
    "name": "ipython",
    "version": 3
   },
   "file_extension": ".py",
   "mimetype": "text/x-python",
   "name": "python",
   "nbconvert_exporter": "python",
   "pygments_lexer": "ipython3",
   "version": "3.4.1"
  }
 },
 "nbformat": 4,
 "nbformat_minor": 0
}
