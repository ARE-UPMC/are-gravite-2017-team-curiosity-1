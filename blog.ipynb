{
 "cells": [
  {
   "cell_type": "markdown",
   "metadata": {},
   "source": [
    "#  La Parallaxe de Mars \n",
    "\n",
    "## Etudiants: MICKAEL RAMILISON, FERHAT KUS, JEROME BONACCHI, YAKUMO KUNIMOTO\n"
   ]
  },
  {
   "cell_type": "markdown",
   "metadata": {},
   "source": [
    "### Semaine 1\n",
    "   \n",
    "   - Ferhat Kus : \n",
    "       - recherche de fonctions python pour faire une animation simple.\n",
    "       - recherche de données de postions de Mars et de la Terre dans le référentiel héliocentrique.\n",
    "   - Yakumo Kunimoto : \n",
    "       - recherche de fonctions python pour faire une animation simple.\n",
    "       - recherche de caractéristiques orbitales de la Terre et de Mars.\n",
    "   - Mickaël Ramilison :\n",
    "       - recherche sur les mouvements de la Terre et des planètes dans le système solaire.\n",
    "   - Jérôme Bonacchi :\n",
    "       - recherche de caractéristiques orbitales de la Terre et de Mars.\n",
    "       - recherche sur le mouvement rétrograde.\n",
    "       - recherche rapide sur la mise en page python pour légender des images ==> aucune solution\n",
    "___\n",
    "        \n",
    "### Semaine 2\n",
    "Bla bla\n",
    "### Semaine 3\n",
    "Bla Bla\n",
    "### Semaine 4\n",
    "Bla Bla"
   ]
  },
  {
   "cell_type": "code",
   "execution_count": null,
   "metadata": {
    "collapsed": true
   },
   "outputs": [],
   "source": []
  }
 ],
 "metadata": {
  "kernelspec": {
   "display_name": "Python 3",
   "language": "python",
   "name": "python3"
  },
  "language_info": {
   "codemirror_mode": {
    "name": "ipython",
    "version": 3
   },
   "file_extension": ".py",
   "mimetype": "text/x-python",
   "name": "python",
   "nbconvert_exporter": "python",
   "pygments_lexer": "ipython3",
   "version": "3.4.1"
  }
 },
 "nbformat": 4,
 "nbformat_minor": 2
}
