{
 "cells": [
  {
   "cell_type": "markdown",
   "metadata": {},
   "source": [
    "# BONACCHI JEROME\n",
    "\n",
    "\n",
    "## Compréhension du mouvement du Système Soleil, Terre, Mars et idées de représentation\n",
    "\n",
    "\n",
    "- Centre de masse confondu avec la position du Soleil\n",
    "- Rotation de la Terre et de Mars autour du Soleil\n",
    "- Orbite quasi-circulaire mais pas d'approximation\n",
    "- utilisation de données\n",
    "- caractéristiques physiques des astres pas prises en compte seulement les caractéristiques orbitales\n",
    "\n",
    "#### Données récupérées sur [fr.wikipedia.org](https://fr.wikipedia.org/wiki/Mars_(plan%C3%A8te) :\n",
    "\n",
    "- Terre :\n",
    "\n",
    "    - Demi-grand axe Terre-Soleil : 1.00000 UA\n",
    "    - Excentricité Terre : 0,016710219\n",
    "    - Inclinaison Terre : 0.00000°\n",
    "    - Période de la Terre : 365,256366 j\n",
    "    - Aphélie : 152097701 km\n",
    "    - Périhélie : 147098074 km\n",
    "\n",
    "- Mars :\n",
    "\n",
    "    - Demi-grand axe Mars-Soleil: 1,52366231 UA \n",
    "    - Aphélie de Mars : 1,66599116 UA\n",
    "    - Périhélie de Mars : 1,38133346 UA\n",
    "    - Période de révolution : 686,9601 j\n",
    "    - Période synodique : 779,9643 j\n",
    "    - Vitesse orbitale moyenne : 24.077 km/s\n",
    "    - Vitesse orbitale maximale : 26.499 km/s\n",
    "    - Vitesse orbitale minimale : 21.972 km/s\n",
    "    - Excentricité Mars :0,09341233\n",
    "    - Inclinaison sur l'écliptique : 1.85061°\n",
    "    - Noeud ascendant 49.578°\n",
    "    - Argument de périhélie : 286,46230°\n",
    "\n",
    "Pas de ref\n",
    "    \n",
    "#### Données récupérées sur [en.wikipedia.org](https://en.wikipedia.org/wiki/Mars) :\n",
    "\n",
    "- Mars :\n",
    "\n",
    "  Epoch J2000\n",
    "  \n",
    "    - Aphelion \t1.6660 AU\n",
    "    - Perihelion \t1.3814 AU\n",
    "    - Semi-major axis 1.523679 AU\n",
    "    - Eccentricity \t0.0934\n",
    "    - Orbital period 1.8808 Julian years 686.971 d 668.5991 sols\n",
    "    - Synodic period 779.96 days 2.135 Julian years\n",
    "    - Average orbital speed 24.077 km/s\n",
    "    - Mean anomaly 19.373°\n",
    "    - Inclination 1.850° to ecliptic 5.65° to Sun's equator 1.67° to invariable plane[1]\n",
    "    - Longitude of ascending node 49.558°\n",
    "    - Argument of perihelion 286.502°\n",
    "Ref :\n",
    "\n",
    "\n",
    "## Mouvement retrograde\n",
    "\n",
    "Voir la partie retrograde sur [en.wikipedia.org](https://en.wikipedia.org/wiki/Mars)"
   ]
  },
  {
   "cell_type": "code",
   "execution_count": null,
   "metadata": {
    "collapsed": true
   },
   "outputs": [],
   "source": []
  }
 ],
 "metadata": {
  "kernelspec": {
   "display_name": "Python 3",
   "language": "python",
   "name": "python3"
  },
  "language_info": {
   "codemirror_mode": {
    "name": "ipython",
    "version": 3
   },
   "file_extension": ".py",
   "mimetype": "text/x-python",
   "name": "python",
   "nbconvert_exporter": "python",
   "pygments_lexer": "ipython3",
   "version": "3.4.1"
  }
 },
 "nbformat": 4,
 "nbformat_minor": 0
}
