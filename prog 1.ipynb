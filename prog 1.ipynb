{
 "cells": [
  {
   "cell_type": "code",
   "execution_count": 1,
   "metadata": {
    "collapsed": true
   },
   "outputs": [],
   "source": [
    "import numpy as np\n",
    "from matplotlib import pyplot as plt\n",
    "from matplotlib import animation\n",
    "\n",
    "fig = plt.figure()\n",
    "fig.set_dpi(100)\n",
    "fig.set_size_inches(7, 6.5)\n",
    "\n",
    "ax = plt.axes(xlim=(0, 10), ylim=(0, 10))\n",
    "patch = plt.Circle((5, -5), 0.75, fc='y')\n",
    "\n",
    "def init():\n",
    "    patch.center = (5, 5)\n",
    "    ax.add_patch(patch)\n",
    "    return patch,\n",
    "\n",
    "def animate(i):\n",
    "    x, y = patch.center\n",
    "    x = 5 + 3 * np.sin(np.radians(i))\n",
    "    y = 5 + 3 * np.cos(np.radians(i))\n",
    "    patch.center = (x, y)\n",
    "    return patch,\n",
    "\n",
    "anim = animation.FuncAnimation(fig, animate, \n",
    "                               init_func=init, \n",
    "                               frames=360, \n",
    "                               interval=20,\n",
    "                               blit=True)\n",
    "\n",
    "plt.show()"
   ]
  },
  {
   "cell_type": "code",
   "execution_count": null,
   "metadata": {
    "collapsed": true
   },
   "outputs": [],
   "source": []
  }
 ],
 "metadata": {
  "kernelspec": {
   "display_name": "Python 3",
   "language": "python",
   "name": "python3"
  },
  "language_info": {
   "codemirror_mode": {
    "name": "ipython",
    "version": 3
   },
   "file_extension": ".py",
   "mimetype": "text/x-python",
   "name": "python",
   "nbconvert_exporter": "python",
   "pygments_lexer": "ipython3",
   "version": "3.4.1"
  }
 },
 "nbformat": 4,
 "nbformat_minor": 0
}
