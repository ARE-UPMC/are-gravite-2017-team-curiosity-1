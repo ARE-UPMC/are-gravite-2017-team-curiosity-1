{
 "cells": [
  {
   "cell_type": "markdown",
   "metadata": {},
   "source": [
    "# TEAM CURIOSITY: Parallaxe de Mars (Kus Ferhat)\n",
    "Récapitulation du travail personnel de la semaine entre le 2 mars et le 8 mars.Des programmes trouvés initialements de la semaine 1 et durant la semaine 2 ont étés retirés par le fait que parfois cela été incompréhensible et parfois il\n",
    "était inintéressant et inutile dans le projet."
   ]
  },
  {
   "cell_type": "markdown",
   "metadata": {},
   "source": [
    "### Des sites internets fiables avec des données différent de celles de WIKIPEDIA\n"
   ]
  },
  {
   "cell_type": "markdown",
   "metadata": {},
   "source": [
    "1. [CARACTERISTIQUES GENERALES DES PLANETES](http://www.imcce.fr/langues/fr/grandpublic/systeme/promenade/pages1/19.html)\n",
    "\n",
    "2. [Périodes de révolution sidérale P et de rotation T des planètes](http://www.imcce.fr/langues/fr/grandpublic/systeme/promenade/pages5/558.html)\n",
    "\n",
    "3. [LE SYSTEME SOLAIRE EN CHIFFRES](http://www.imcce.fr/langues/fr/grandpublic/systeme/promenade/pages3/376.html)\n",
    "\n",
    "4. [PORTAIL SYSTÈME SOLAIRE OBSERVATOIRE VIRTUEL DE L'IMCCE Observatoire de Paris / CNRS](http://vo.imcce.fr/webservices/miriade/?forms)\n"
   ]
  },
  {
   "cell_type": "markdown",
   "metadata": {},
   "source": [
    "### Définition de la parallaxe (Glossaire de IMCEE: Institut de mécanique céleste et de calcul des éphémérides)\n",
    "Référence: \"http://www.imcce.fr/langues/fr/grandpublic/systeme/promenade/pages2/221.html#paral\""
   ]
  },
  {
   "cell_type": "markdown",
   "metadata": {},
   "source": [
    "**Parallaxe**: Différence entre les directions apparentes d'un corps céleste lorsque l'observateur passe d'un point de l'espace à un autre. Angle sous lequel est vu, du corps céleste, un segment de droite joignant les deux points. (Voir Parallaxe annuelle, Parallaxe diurne).  \n",
    "\n",
    "**Parallaxe annuelle**: Différence entre les directions apparentes d'un corps céleste vu par un observateur placé au barycentre du système solaire et vu par un observateur placé au centre de la Terre. Pour une étoile, angle sous lequel est vu, de l'étoile, le demi-grand axe de l'orbite terrestre.  \n",
    "\n",
    "**Parallaxe diurne**: Différence entre les directions apparentes d'un corps céleste vu par un observateur placé au centre de la Terre et vu par un observateur placé sur la Terre. Pour une étoile la parallaxe diurne est négligeable.  \n"
   ]
  },
  {
   "cell_type": "markdown",
   "metadata": {},
   "source": [
    "### Kinésthésie Vidéo Parallaxe de Mars"
   ]
  },
  {
   "cell_type": "markdown",
   "metadata": {},
   "source": [
    "Lien: [Vidéo](http://video.upmc.fr/differe.php?collec=E_activite_kinesthesique&video=24)"
   ]
  },
  {
   "cell_type": "markdown",
   "metadata": {},
   "source": [
    "### Un programme sur la parallaxe de Mars"
   ]
  },
  {
   "cell_type": "markdown",
   "metadata": {},
   "source": [
    "1. [Parallaxe de Mars](https://github.com/zingale/astro_animations/blob/master/solar_system_motion/parallax/parallax.py)\n",
    "2. [Parallaxe ](http://www.cosmovisions.com/parallaxe.htm)\n",
    "\n",
    "3. [Paraxallaxe Diurne et annuelle: avec image explicatifs](http://media4.obspm.fr/public/AMC/pages_kepler/mctc-parallaxe-diurne-horizontale.html)\n",
    "\n",
    "4. [Distance Terre-Mars](http://media4.obspm.fr/public/AMC/pages_kepler/mctc-distance-terre-mars.html)\n",
    "\n",
    "5. [Parallaxe d'un astre & triangulation](http://serge.mehl.free.fr/anx/parallaxe.html)\n",
    "\n",
    "6. [Parallaxe astrosurf](http://www.astrosurf.com/aphelie/compte_rendu/CR_2010/presentation_parallaxe.pdf)\n",
    "\n",
    "7. [Mouvement Mars site de la NASA](http://mars.jpl.nasa.gov/allaboutmars/nightsky/retrograde/)\n",
    "\n",
    "8. [Fiche pédagogique n° 27 a : Les distances dans le système solaire: La parallaxe et les lois de Képler](https://www.imcce.fr/hosted_sites/vt2004/fr/fiches/fiche_n27a.html)\n",
    "\n",
    "9. [Mouvement de la Terre et de Mars autour du Soleil.](https://media4.obspm.fr/public/AAM/pages_def/intro-retrogradation-mars.html) Le mouvement de Mars vu depuis la Terre montre des périodes pendant lesquelles Mars se déplace dans le sens inverse au Soleil par rapport au fond d'étoiles fixes. \n",
    "L'animation dans le lien montre à gauche le mouvement de la Terre et de Mars autour du Soleil et à droite les mêmes mouvements vus depuis la Terre. "
   ]
  },
  {
   "cell_type": "markdown",
   "metadata": {},
   "source": [
    "### Simulateur 3D, positions des planètes"
   ]
  },
  {
   "cell_type": "markdown",
   "metadata": {},
   "source": [
    "[Lien](http://www.astronoo.com/fr/articles/positions-des-planetes.html)"
   ]
  },
  {
   "cell_type": "code",
   "execution_count": 1,
   "metadata": {
    "collapsed": false
   },
   "outputs": [
    {
     "data": {
      "image/png": "[encoded data removed]",
      "text/plain": [
       "<matplotlib.figure.Figure at 0x43858d0>"
      ]
     },
     "metadata": {},
     "output_type": "display_data"
    }
   ],
   "source": [
    "# coding: utf-8\n",
    "\n",
    "%matplotlib inline\n",
    "\n",
    "import numpy as np\n",
    "from matplotlib import pyplot as plt\n",
    "from matplotlib import animation\n",
    "\n",
    "\n",
    "fig = plt.figure()\n",
    "fig.set_dpi(100)\n",
    "fig.set_size_inches(16, 9)\n",
    "\n",
    "ax = plt.axes(xlim=(0, 16), ylim=(0, 9))\n",
    "soleil = plt.Circle((8, 5), 0.75, fc='y')\n",
    "terre = plt.Circle((5, 5), 0.25, fc='b')\n",
    "mars = plt.Circle((3, 5), 0.18, fc='r')\n",
    "\n",
    "\n",
    "def init():\n",
    "    soleil.center = (8, 5)\n",
    "    terre.center = (5,5)\n",
    "    mars.center = (3,5)\n",
    "    ax.add_patch(soleil)\n",
    "    ax.add_patch(terre)\n",
    "    ax.add_patch(mars)\n",
    "    return soleil,# terre, mars,\n",
    "\n",
    "def animate(i):\n",
    "    x_terre, y_terre = terre.center\n",
    "    x_terre = 8 + 2 * np.sin(np.radians(3/2*i))\n",
    "    y_terre = 5 + 2 * np.cos(np.radians(3/2*i))\n",
    "    terre.center = (x_terre, y_terre)\n",
    "    x_mars, y_mars = terre.center\n",
    "    x_mars = 8 + 3.8 * np.sin(np.radians(i))\n",
    "    y_mars = 5 + 3.8 * np.cos(np.radians(i))\n",
    "    mars.center = (x_mars, y_mars)\n",
    "    return terre, mars,\n",
    "\n",
    "anim = animation.FuncAnimation(fig, animate, \n",
    "                               init_func=init, \n",
    "                               frames=1440, \n",
    "                               interval=5,\n",
    "                               blit=False)\n",
    "\n",
    "plt.show()"
   ]
  },
  {
   "cell_type": "code",
   "execution_count": null,
   "metadata": {
    "collapsed": true
   },
   "outputs": [],
   "source": []
  }
 ],
 "metadata": {
  "kernelspec": {
   "display_name": "Python 3",
   "language": "python",
   "name": "python3"
  },
  "language_info": {
   "codemirror_mode": {
    "name": "ipython",
    "version": 3
   },
   "file_extension": ".py",
   "mimetype": "text/x-python",
   "name": "python",
   "nbconvert_exporter": "python",
   "pygments_lexer": "ipython3",
   "version": "3.4.1"
  }
 },
 "nbformat": 4,
 "nbformat_minor": 0
}
