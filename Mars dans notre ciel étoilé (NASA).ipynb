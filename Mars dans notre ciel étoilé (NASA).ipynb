{
 "cells": [
  {
   "cell_type": "markdown",
   "metadata": {
    "collapsed": true
   },
   "source": [
    "# Mars dans notre ciel étoilé (NASA)\n"
   ]
  },
  {
   "cell_type": "markdown",
   "metadata": {},
   "source": [
    "sources: http://mars.jpl.nasa.gov/allaboutmars/nightsky/retrograde/"
   ]
  },
  {
   "cell_type": "markdown",
   "metadata": {},
   "source": [
    "Tout les deux ans environ la position de Mars dans le ciel semble changer de direction et bouge d'Est en Ouest.\n",
    "Cela est dû au fait que la Terre et Mars orbitent tous les deux autour du soleil."
   ]
  },
  {
   "cell_type": "markdown",
   "metadata": {},
   "source": [
    "Les deux planètes sont comparables à une course entre deux voiture sur des couloirs différents, la Terre étant dans le couloir intérieur et la Terre se déplace plus vite que Mars.\n",
    "Tout les 26 mois, la Terre arrive par derrière pour dépasser Mars. Lorsqu'on dépasse Mars on a l'illusion que la planète revien en arrière "
   ]
  },
  {
   "cell_type": "markdown",
   "metadata": {
    "collapsed": true
   },
   "source": [
    "La trajectoire de Mars dans le ciel dépend de la position de la Terre par rapport à Mars: "
   ]
  },
  {
   "cell_type": "markdown",
   "metadata": {},
   "source": [
    "![alt text](http://mars.jpl.nasa.gov/images/mep/allaboutmars/retrograde/2014-2016-mars-retrograde-earth-night-sky-samples.jpg)"
   ]
  },
  {
   "cell_type": "markdown",
   "metadata": {},
   "source": [
    "_A gauche nous avons la trajectoire de Mars en 2014 et à droite la trajectoire de Mars en 2016._"
   ]
  },
  {
   "cell_type": "markdown",
   "metadata": {},
   "source": [
    "En effet comme le plan des orbites des deux planète ne sont pas les mêmes la trajectoire de Mars dans le ciel peut varier."
   ]
  },
  {
   "cell_type": "markdown",
   "metadata": {},
   "source": [
    "![alt text](http://mars.jpl.nasa.gov/images/mep/allaboutmars/nightsky/earth-mars-tilt_br.gif)"
   ]
  },
  {
   "cell_type": "markdown",
   "metadata": {},
   "source": [
    "_différence des plans des orbites de la Terre et Mars_"
   ]
  },
  {
   "cell_type": "code",
   "execution_count": null,
   "metadata": {
    "collapsed": true
   },
   "outputs": [],
   "source": []
  }
 ],
 "metadata": {
  "kernelspec": {
   "display_name": "Python 3",
   "language": "python",
   "name": "python3"
  },
  "language_info": {
   "codemirror_mode": {
    "name": "ipython",
    "version": 3
   },
   "file_extension": ".py",
   "mimetype": "text/x-python",
   "name": "python",
   "nbconvert_exporter": "python",
   "pygments_lexer": "ipython3",
   "version": "3.6.0"
  }
 },
 "nbformat": 4,
 "nbformat_minor": 2
}
